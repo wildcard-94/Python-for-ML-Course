{
 "cells": [
  {
   "cell_type": "code",
   "execution_count": 1,
   "id": "578754a0",
   "metadata": {},
   "outputs": [],
   "source": [
    "import pandas as pd \n",
    "from sklearn.tree import DecisionTreeClassifier\n",
    "from sklearn.model_selection import train_test_split\n",
    "from sklearn import metrics "
   ]
  },
  {
   "cell_type": "code",
   "execution_count": 6,
   "id": "17f58423",
   "metadata": {},
   "outputs": [],
   "source": [
    "col_names = ['company','job','degree','salary_more_than_100k']\n",
    "data = pd.read_csv('salaries.csv',header=None, names=col_names)\n"
   ]
  },
  {
   "cell_type": "code",
   "execution_count": 7,
   "id": "33e915b6",
   "metadata": {},
   "outputs": [
    {
     "data": {
      "text/html": [
       "<div>\n",
       "<style scoped>\n",
       "    .dataframe tbody tr th:only-of-type {\n",
       "        vertical-align: middle;\n",
       "    }\n",
       "\n",
       "    .dataframe tbody tr th {\n",
       "        vertical-align: top;\n",
       "    }\n",
       "\n",
       "    .dataframe thead th {\n",
       "        text-align: right;\n",
       "    }\n",
       "</style>\n",
       "<table border=\"1\" class=\"dataframe\">\n",
       "  <thead>\n",
       "    <tr style=\"text-align: right;\">\n",
       "      <th></th>\n",
       "      <th>company</th>\n",
       "      <th>job</th>\n",
       "      <th>degree</th>\n",
       "      <th>salary_more_than_100k</th>\n",
       "    </tr>\n",
       "  </thead>\n",
       "  <tbody>\n",
       "    <tr>\n",
       "      <th>0</th>\n",
       "      <td>company</td>\n",
       "      <td>job</td>\n",
       "      <td>degree</td>\n",
       "      <td>salary_more_then_100k</td>\n",
       "    </tr>\n",
       "    <tr>\n",
       "      <th>1</th>\n",
       "      <td>google</td>\n",
       "      <td>sale exective</td>\n",
       "      <td>bachelaors</td>\n",
       "      <td>0</td>\n",
       "    </tr>\n",
       "    <tr>\n",
       "      <th>2</th>\n",
       "      <td>google</td>\n",
       "      <td>sale exective</td>\n",
       "      <td>masters</td>\n",
       "      <td>0</td>\n",
       "    </tr>\n",
       "    <tr>\n",
       "      <th>3</th>\n",
       "      <td>google</td>\n",
       "      <td>business manager</td>\n",
       "      <td>bachelaors</td>\n",
       "      <td>1</td>\n",
       "    </tr>\n",
       "    <tr>\n",
       "      <th>4</th>\n",
       "      <td>google</td>\n",
       "      <td>business manager</td>\n",
       "      <td>masters</td>\n",
       "      <td>1</td>\n",
       "    </tr>\n",
       "    <tr>\n",
       "      <th>5</th>\n",
       "      <td>google</td>\n",
       "      <td>computer programmer</td>\n",
       "      <td>bachelaors</td>\n",
       "      <td>0</td>\n",
       "    </tr>\n",
       "    <tr>\n",
       "      <th>6</th>\n",
       "      <td>google</td>\n",
       "      <td>computer programmer</td>\n",
       "      <td>masters</td>\n",
       "      <td>1</td>\n",
       "    </tr>\n",
       "    <tr>\n",
       "      <th>7</th>\n",
       "      <td>abc pharma</td>\n",
       "      <td>sale exective</td>\n",
       "      <td>masters</td>\n",
       "      <td>0</td>\n",
       "    </tr>\n",
       "    <tr>\n",
       "      <th>8</th>\n",
       "      <td>abc pharma</td>\n",
       "      <td>computer programmer</td>\n",
       "      <td>bachelaors</td>\n",
       "      <td>0</td>\n",
       "    </tr>\n",
       "    <tr>\n",
       "      <th>9</th>\n",
       "      <td>abc pharma</td>\n",
       "      <td>business manager</td>\n",
       "      <td>bachelaors</td>\n",
       "      <td>0</td>\n",
       "    </tr>\n",
       "    <tr>\n",
       "      <th>10</th>\n",
       "      <td>abc pharma</td>\n",
       "      <td>business manager</td>\n",
       "      <td>masters</td>\n",
       "      <td>1</td>\n",
       "    </tr>\n",
       "    <tr>\n",
       "      <th>11</th>\n",
       "      <td>facebook</td>\n",
       "      <td>sale exective</td>\n",
       "      <td>bachelaors</td>\n",
       "      <td>1</td>\n",
       "    </tr>\n",
       "    <tr>\n",
       "      <th>12</th>\n",
       "      <td>facebook</td>\n",
       "      <td>sale exective</td>\n",
       "      <td>masters</td>\n",
       "      <td>1</td>\n",
       "    </tr>\n",
       "    <tr>\n",
       "      <th>13</th>\n",
       "      <td>facebook</td>\n",
       "      <td>business manager</td>\n",
       "      <td>bachelaors</td>\n",
       "      <td>1</td>\n",
       "    </tr>\n",
       "    <tr>\n",
       "      <th>14</th>\n",
       "      <td>facebook</td>\n",
       "      <td>business manager</td>\n",
       "      <td>masters</td>\n",
       "      <td>1</td>\n",
       "    </tr>\n",
       "    <tr>\n",
       "      <th>15</th>\n",
       "      <td>facebook</td>\n",
       "      <td>computer programmer</td>\n",
       "      <td>bachelaors</td>\n",
       "      <td>1</td>\n",
       "    </tr>\n",
       "    <tr>\n",
       "      <th>16</th>\n",
       "      <td>facebook</td>\n",
       "      <td>computer programmer</td>\n",
       "      <td>masters</td>\n",
       "      <td>1</td>\n",
       "    </tr>\n",
       "  </tbody>\n",
       "</table>\n",
       "</div>"
      ],
      "text/plain": [
       "       company                  job      degree  salary_more_than_100k\n",
       "0      company                  job      degree  salary_more_then_100k\n",
       "1       google        sale exective  bachelaors                      0\n",
       "2       google        sale exective     masters                      0\n",
       "3       google     business manager  bachelaors                      1\n",
       "4       google     business manager     masters                      1\n",
       "5       google  computer programmer  bachelaors                      0\n",
       "6       google  computer programmer     masters                      1\n",
       "7   abc pharma        sale exective     masters                      0\n",
       "8   abc pharma  computer programmer  bachelaors                      0\n",
       "9   abc pharma     business manager  bachelaors                      0\n",
       "10  abc pharma     business manager     masters                      1\n",
       "11    facebook        sale exective  bachelaors                      1\n",
       "12    facebook        sale exective     masters                      1\n",
       "13    facebook     business manager  bachelaors                      1\n",
       "14    facebook     business manager     masters                      1\n",
       "15    facebook  computer programmer  bachelaors                      1\n",
       "16    facebook  computer programmer     masters                      1"
      ]
     },
     "execution_count": 7,
     "metadata": {},
     "output_type": "execute_result"
    }
   ],
   "source": [
    "data"
   ]
  },
  {
   "cell_type": "code",
   "execution_count": 10,
   "id": "34331370",
   "metadata": {},
   "outputs": [],
   "source": [
    "feature_cols = ['company','job','degree']\n",
    "X = data[feature_cols]\n",
    "y = data['salary_more_than_100k']"
   ]
  },
  {
   "cell_type": "code",
   "execution_count": 11,
   "id": "e5779b6e",
   "metadata": {},
   "outputs": [
    {
     "name": "stdout",
     "output_type": "stream",
     "text": [
      "   company  job  degree  salary_more_than_100k\n",
      "0        1    2       1  salary_more_then_100k\n",
      "1        3    3       0                      0\n",
      "2        3    3       2                      0\n",
      "3        3    0       0                      1\n",
      "4        3    0       2                      1\n"
     ]
    }
   ],
   "source": [
    "from sklearn import preprocessing\n",
    "label_encoder = preprocessing.LabelEncoder()\n",
    "data['company']=label_encoder.fit_transform(data['company'])\n",
    "data['job']=label_encoder.fit_transform(data['job'])\n",
    "data['degree']=label_encoder.fit_transform(data['degree'])\n",
    "print(data.head())"
   ]
  },
  {
   "cell_type": "code",
   "execution_count": 13,
   "id": "b5c8dcdf",
   "metadata": {},
   "outputs": [
    {
     "name": "stdout",
     "output_type": "stream",
     "text": [
      "    company  job  degree\n",
      "0         1    2       1\n",
      "1         3    3       0\n",
      "2         3    3       2\n",
      "3         3    0       0\n",
      "4         3    0       2\n",
      "5         3    1       0\n",
      "6         3    1       2\n",
      "7         0    3       2\n",
      "8         0    1       0\n",
      "9         0    0       0\n",
      "10        0    0       2\n",
      "11        2    3       0\n",
      "12        2    3       2\n",
      "13        2    0       0\n",
      "14        2    0       2\n",
      "15        2    1       0\n",
      "16        2    1       2\n",
      "0     salary_more_then_100k\n",
      "1                         0\n",
      "2                         0\n",
      "3                         1\n",
      "4                         1\n",
      "5                         0\n",
      "6                         1\n",
      "7                         0\n",
      "8                         0\n",
      "9                         0\n",
      "10                        1\n",
      "11                        1\n",
      "12                        1\n",
      "13                        1\n",
      "14                        1\n",
      "15                        1\n",
      "16                        1\n",
      "Name: salary_more_than_100k, dtype: object\n"
     ]
    }
   ],
   "source": [
    "feature_cols = ['company','job','degree']\n",
    "X = data[feature_cols]\n",
    "y = data['salary_more_than_100k']\n",
    "#X = data.values[1:,:3]\n",
    "#y = data.values[1:,3] # 1:,3 one mean we are not using the header\n",
    "print(X)\n",
    "print(y)"
   ]
  },
  {
   "cell_type": "code",
   "execution_count": 15,
   "id": "9c818daf",
   "metadata": {},
   "outputs": [],
   "source": [
    "X_train, X_test, y_train,y_test = train_test_split(X,y,test_size=0.2,random_state=100)"
   ]
  },
  {
   "cell_type": "code",
   "execution_count": 19,
   "id": "9ad91019",
   "metadata": {},
   "outputs": [],
   "source": [
    "clf_entropy = DecisionTreeClassifier(criterion='entropy', max_depth=2)\n",
    "clf_entropy = clf_entropy.fit(X_train, y_train)"
   ]
  },
  {
   "cell_type": "code",
   "execution_count": 20,
   "id": "5393c185",
   "metadata": {},
   "outputs": [
    {
     "name": "stdout",
     "output_type": "stream",
     "text": [
      "accuracy 0.5\n"
     ]
    }
   ],
   "source": [
    "y_pred = clf_entropy.predict(X_test)\n",
    "\n",
    "print('accuracy', metrics.accuracy_score(y_test,y_pred))"
   ]
  }
 ],
 "metadata": {
  "kernelspec": {
   "display_name": "Python 3 (ipykernel)",
   "language": "python",
   "name": "python3"
  },
  "language_info": {
   "codemirror_mode": {
    "name": "ipython",
    "version": 3
   },
   "file_extension": ".py",
   "mimetype": "text/x-python",
   "name": "python",
   "nbconvert_exporter": "python",
   "pygments_lexer": "ipython3",
   "version": "3.9.13"
  }
 },
 "nbformat": 4,
 "nbformat_minor": 5
}
